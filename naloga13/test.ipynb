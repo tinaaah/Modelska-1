{
 "cells": [
  {
   "cell_type": "code",
   "execution_count": 3,
   "metadata": {},
   "outputs": [],
   "source": [
    "import math\n",
    "import random\n",
    "import numpy as np\n",
    "import seaborn as sns\n",
    "from matplotlib import pyplot as plt\n",
    "from matplotlib.colors import LogNorm\n",
    "from naloga import NeuralNetwork, tf, mnist, delta, deep_Dream, truncated_normal, sigmoid\n",
    "\n",
    "os.environ['TF_CPP_MIN_LOG_LEVEL'] = '3'\n",
    "# plt.rcParams[\"figure.figsize\"] = (15,5)\n",
    "# plt.rcParams[\"axes.prop_cycle\"] = plt.cycler(\"color\", plt.cm.Set2.colors)"
   ]
  },
  {
   "cell_type": "code",
   "execution_count": 4,
   "metadata": {},
   "outputs": [],
   "source": [
    "## load data\n",
    "(train_img, train_lab), (test_img, test_lab) = mnist.load_data()\n",
    "end_train = train_img\n",
    "end_test = test_img "
   ]
  },
  {
   "cell_type": "code",
   "execution_count": 5,
   "metadata": {},
   "outputs": [
    {
     "name": "stdout",
     "output_type": "stream",
     "text": [
      "Image label:  9\n"
     ]
    },
    {
     "data": {
      "image/png": "[encoded data removed]",
      "text/plain": [
       "<Figure size 432x288 with 1 Axes>"
      ]
     },
     "metadata": {
      "needs_background": "light"
     },
     "output_type": "display_data"
    }
   ],
   "source": [
    "## Display N-th element from the training set and its label\n",
    "element = 9\n",
    "\n",
    "print(\"Image label: \", test_lab[element])\n",
    "plt.imshow(test_img[element], cmap='gray_r')\n",
    "plt.show()\n",
    "# plt.savefig(\"element{}.png\".format(element))"
   ]
  },
  {
   "cell_type": "code",
   "execution_count": 6,
   "metadata": {},
   "outputs": [],
   "source": [
    "## reshape images and normalize data\n",
    "train_img = np.asfarray(train_img.reshape((-1,784))) / 255.\n",
    "test_img = np.asfarray(test_img.reshape((-1,784))) / 255.\n",
    "train_lab = np.asfarray(train_lab)\n",
    "test_lab = np.asfarray(test_lab)"
   ]
  },
  {
   "cell_type": "code",
   "execution_count": 7,
   "metadata": {},
   "outputs": [
    {
     "name": "stdout",
     "output_type": "stream",
     "text": [
      "digit\ttrain\ttest\n",
      "0\t5923\t980\n",
      "1\t6742\t1135\n",
      "2\t5958\t1032\n",
      "3\t6131\t1010\n",
      "4\t5842\t982\n",
      "5\t5421\t892\n",
      "6\t5918\t958\n",
      "7\t6265\t1028\n",
      "8\t5851\t974\n",
      "9\t5949\t1009\n"
     ]
    }
   ],
   "source": [
    "## display number of occurrences of each digit in training and test set\n",
    "print(\"digit\\ttrain\\ttest\")\n",
    "for i in range(10):\n",
    "    print(i, np.sum(train_lab==i), np.sum(test_lab==i), sep='\\t')\n"
   ]
  },
  {
   "cell_type": "code",
   "execution_count": 9,
   "metadata": {},
   "outputs": [],
   "source": [
    "## transform data into one-hot representation\n",
    "train_onehot = tf.one_hot(train_lab, depth=10)\n",
    "test_onehot = tf.one_hot(test_lab, depth=10)"
   ]
  },
  {
   "cell_type": "markdown",
   "metadata": {},
   "source": [
    "_______________________________________________________"
   ]
  },
  {
   "cell_type": "code",
   "execution_count": 10,
   "metadata": {},
   "outputs": [],
   "source": [
    "## load neural network\n",
    "shape = [784, 50, 10]\n",
    "mu = 0.01\n",
    "\n",
    "ANN = NeuralNetwork(network_structure=shape, learning_rate=mu, activation_function=sigmoid, bias=None)"
   ]
  },
  {
   "cell_type": "code",
   "execution_count": 8,
   "metadata": {},
   "outputs": [],
   "source": [
    "## train the network\n",
    "ep = 3\n",
    "weights, out = ANN.train(data_array = train_img, labels_one_hot_array = train_onehot, epochs=ep, intermediate_results=False)"
   ]
  },
  {
   "cell_type": "code",
   "execution_count": 9,
   "metadata": {},
   "outputs": [
    {
     "name": "stdout",
     "output_type": "stream",
     "text": [
      "Train accuracy:  0.9270333333333334\n",
      "Test accuracy:  0.9281\n"
     ]
    }
   ],
   "source": [
    "## evaluate\n",
    "## train\n",
    "TRAIN = ANN.evaluate(train_img, train_lab)\n",
    "train_accuracy = TRAIN[0]/(TRAIN[0] + TRAIN[1])\n",
    "print(\"Train accuracy: \", train_accuracy)\n",
    "\n",
    "## test\n",
    "TEST = ANN.evaluate(test_img, test_lab)\n",
    "test_accuracy = TEST[0]/(TEST[0] + TEST[1])\n",
    "print(\"Test accuracy: \", test_accuracy)"
   ]
  },
  {
   "cell_type": "code",
   "execution_count": 14,
   "metadata": {},
   "outputs": [
    {
     "name": "stdout",
     "output_type": "stream",
     "text": [
      "It thinks it's: 6, but it's actualy 4.\n"
     ]
    },
    {
     "data": {
      "image/png": "[encoded data removed]",
      "text/plain": [
       "<Figure size 432x288 with 1 Axes>"
      ]
     },
     "metadata": {
      "needs_background": "light"
     },
     "output_type": "display_data"
    }
   ],
   "source": [
    "corrects, wrongs, err_correct, err_guess, truth, all_img = TEST\n",
    "\n",
    "## display a random falsely identified digit \n",
    "index = random.randint(0, len(err_correct) - 1)\n",
    "element = err_correct[index]\n",
    "\n",
    "print(\"It thinks it's: {}, but it's actualy {}.\".format(err_guess[index], int(test_lab[element])) )\n",
    "plt.imshow(end_test[element], cmap='gray_r')\n",
    "plt.show()"
   ]
  },
  {
   "cell_type": "code",
   "execution_count": 15,
   "metadata": {},
   "outputs": [],
   "source": [
    "## train the network at different epochs\n",
    "eps = np.asarray(range(1,11))\n",
    "out_epochs = open(\"grafi/epohe.txt\", 'a')\n",
    "print(\"#epochs\\ttrain_acc\\ttest_acc\", file=out_epochs)\n",
    "for ep in eps:\n",
    "    weights, out = ANN.train(data_array = train_img, labels_one_hot_array = train_onehot, epochs=ep, intermediate_results=False)\n",
    "\n",
    "    TRAIN = ANN.evaluate(train_img, train_lab)\n",
    "    train_accuracy = TRAIN[0]/(TRAIN[0] + TRAIN[1])\n",
    "\n",
    "    TEST = ANN.evaluate(test_img, test_lab)\n",
    "    test_accuracy = TEST[0]/(TEST[0] + TEST[1])\n",
    "\n",
    "    print(ep, train_accuracy, test_accuracy, sep='\\t', file=out_epochs, flush=True)"
   ]
  },
  {
   "cell_type": "code",
   "execution_count": 10,
   "metadata": {},
   "outputs": [
    {
     "data": {
      "image/png": "[encoded data removed]",
      "text/plain": [
       "<Figure size 432x288 with 1 Axes>"
      ]
     },
     "metadata": {
      "needs_background": "light"
     },
     "output_type": "display_data"
    }
   ],
   "source": [
    "## plot some nice graphs\n",
    "train_missed = [1-TRAIN[3].count(i)/TRAIN[5].count(i) for i in range(10)]\n",
    "test_missed = [1-TEST[3].count(i)/TEST[5].count(i) for i in range(10)]\n",
    "\n",
    "# create bar chart \n",
    "fig, ax = plt.subplots()\n",
    "x = np.asarray(range(10))\n",
    "bar_width = 0.35\n",
    "opacity = 0.8\n",
    "\n",
    "bar1 = plt.bar(x, train_missed, bar_width, alpha=opacity, label='Train')\n",
    "bar2 = plt.bar(x + bar_width, test_missed, bar_width, alpha=opacity, label='Test')\n",
    "\n",
    "plt.xlabel('digit')\n",
    "plt.ylabel('$\\mu$')\n",
    "plt.legend()\n",
    "\n",
    "plt.tight_layout()\n",
    "plt.show()"
   ]
  },
  {
   "cell_type": "code",
   "execution_count": 11,
   "metadata": {},
   "outputs": [
    {
     "data": {
      "image/png": "[encoded data removed]",
      "text/plain": [
       "<Figure size 720x720 with 2 Axes>"
      ]
     },
     "metadata": {
      "needs_background": "light"
     },
     "output_type": "display_data"
    }
   ],
   "source": [
    "## Heatmap of digits\n",
    "matrix1 = np.zeros((10,10), dtype='int')\n",
    "matrix2 = np.zeros((10,10), dtype='int')\n",
    "for i in range(len(TRAIN[5])):\n",
    "    I = int(TRAIN[5][i])\n",
    "    J = int(train_lab[i])\n",
    "    matrix1[I, J] += 1\n",
    "\n",
    "for i in range(len(TEST[5])):\n",
    "    K = int(TEST[5][i])\n",
    "    L = int(test_lab[i])\n",
    "    matrix2[K, L] += 1\n",
    "\n",
    "plt.figure(figsize=(10,10))\n",
    "sns.heatmap(matrix2, annot=False,  linewidths=.5, norm=LogNorm())\n",
    "plt.show()"
   ]
  },
  {
   "cell_type": "code",
   "execution_count": 14,
   "metadata": {},
   "outputs": [],
   "source": [
    "## accuracy while traingin\n",
    "shape = [784, 50, 10]\n",
    "eks = [1e-6, 1e-5, 1e-4, 1e-3, 1e-2, 1e-1, 1]\n",
    "\n",
    "tab = []\n",
    "for eta in eks:\n",
    "    ANN = NeuralNetwork(network_structure=shape, learning_rate=eta, activation_function=sigmoid, bias=None)\n",
    "    weights, out = ANN.train(train_img, train_onehot, epochs=1, intermediate_results=False)\n",
    "\n",
    "    length = len(out)//1000\n",
    "    learning = np.asarray([np.average(out[i*1000:(i+1)*1000]) for i in range(length)])\n",
    "    tab = np.vstack(tab, learning)"
   ]
  },
  {
   "cell_type": "code",
   "execution_count": 22,
   "metadata": {},
   "outputs": [
    {
     "name": "stderr",
     "output_type": "stream",
     "text": [
      "No artists with labels found to put in legend.  Note that artists whose label start with an underscore are ignored when legend() is called with no argument.\n"
     ]
    },
    {
     "data": {
      "image/png": "[encoded data removed]",
      "text/plain": [
       "<Figure size 432x288 with 1 Axes>"
      ]
     },
     "metadata": {
      "needs_background": "light"
     },
     "output_type": "display_data"
    }
   ],
   "source": [
    "tab = np.array(tab)\n",
    "\n",
    "x = np.asarray(range(len(out)//1000))\n",
    "y0 = tab[0]\n",
    "\n",
    "plt.plot(x, tab[0])\n",
    "plt.plot(x, tab[1])\n",
    "plt.plot(x, tab[2])\n",
    "plt.plot(x, tab[3])\n",
    "plt.plot(x, tab[4])\n",
    "plt.show()"
   ]
  },
  {
   "cell_type": "markdown",
   "metadata": {},
   "source": [
    "____________\n",
    "Let's fall into deep dream"
   ]
  },
  {
   "cell_type": "code",
   "execution_count": 21,
   "metadata": {},
   "outputs": [],
   "source": [
    "shape = [784, 80, 10]\n",
    "eta = 0.01\n",
    "ANN = NeuralNetwork(network_structure=shape, learning_rate=eta, activation_function=sigmoid, bias=None)\n",
    "weights, out = ANN.train(train_img, train_onehot, epochs=1, intermediate_results=False)"
   ]
  },
  {
   "cell_type": "code",
   "execution_count": 22,
   "metadata": {},
   "outputs": [],
   "source": [
    "def deep_Dream(y_0, target_vector):\n",
    "    error = 5\n",
    "    N_it = 1\n",
    "    app = []\n",
    "    while(error > 0.01 and N_it <= 3e6):\n",
    "        h_0 = ANN.run(y_0.T, dream=True)\n",
    "        error = np.linalg.norm(h_0[len(h_0)-1]-target_vector)\n",
    "        app.append(error)\n",
    "        #print(error)\n",
    "        delta1 = delta(2, 0, weights, h_0, target_vector)\n",
    "        prod = 0.01*np.dot(delta1, weights[0])\n",
    "        y_0 += prod.T\n",
    "        N_it += 1\n",
    "    return y_0, app"
   ]
  },
  {
   "cell_type": "code",
   "execution_count": 23,
   "metadata": {},
   "outputs": [
    {
     "data": {
      "image/png": "[encoded data removed]",
      "text/plain": [
       "<Figure size 432x288 with 1 Axes>"
      ]
     },
     "metadata": {
      "needs_background": "light"
     },
     "output_type": "display_data"
    }
   ],
   "source": [
    "## starting canvas is all black\n",
    "y_0 = np.ones((784, 1))\n",
    "img = y_0.reshape((28, 28))\n",
    "\n",
    "plt.figure(3)\n",
    "plt.imshow(img, vmin=0, vmax=1, cmap=\"Greys\")\n",
    "\n",
    "## start dreaming\n",
    "index = 9\n",
    "y_0, h_0 = deep_Dream(np.reshape(y_0, (784,1)), np.reshape(test_onehot[index], (10, 1)))"
   ]
  },
  {
   "cell_type": "code",
   "execution_count": 24,
   "metadata": {},
   "outputs": [
    {
     "name": "stdout",
     "output_type": "stream",
     "text": [
      "9.0\n"
     ]
    },
    {
     "data": {
      "image/png": "[encoded data removed]",
      "text/plain": [
       "<Figure size 432x288 with 1 Axes>"
      ]
     },
     "metadata": {},
     "output_type": "display_data"
    }
   ],
   "source": [
    "img = y_0.reshape((28, 28))\n",
    "\n",
    "print(test_lab[index])\n",
    "N = int(test_lab[index])\n",
    "\n",
    "plt.figure(3)\n",
    "plt.imshow(img, vmin=0, vmax=1, cmap=\"Greys\")\n",
    "plt.tick_params(left = False, right = False , labelleft = False ,\n",
    "                labelbottom = False, bottom = False)\n",
    "plt.xlabel(\"${}$\".format(N))\n",
    "plt.savefig(\"deep_dream_{}.png\".format(N))\n",
    "plt.show()"
   ]
  },
  {
   "cell_type": "code",
   "execution_count": 28,
   "metadata": {},
   "outputs": [
    {
     "data": {
      "image/png": "[encoded data removed]",
      "text/plain": [
       "<Figure size 432x288 with 1 Axes>"
      ]
     },
     "metadata": {
      "needs_background": "light"
     },
     "output_type": "display_data"
    }
   ],
   "source": [
    "## plot residual while deep dreaming\n",
    "residual = open(\"grafi/residual_deep_dream.txt\", 'a')\n",
    "print(\"step\\tresidual\", file=residual)\n",
    "for i in range(len(h_0)):\n",
    "    print(i, h_0[i], sep='\\t', file=residual)\n",
    "plt.plot(h_0, \"k--\")\n",
    "plt.show()"
   ]
  }
 ],
 "metadata": {
  "kernelspec": {
   "display_name": "Python 3.10.4 64-bit",
   "language": "python",
   "name": "python3"
  },
  "language_info": {
   "codemirror_mode": {
    "name": "ipython",
    "version": 3
   },
   "file_extension": ".py",
   "mimetype": "text/x-python",
   "name": "python",
   "nbconvert_exporter": "python",
   "pygments_lexer": "ipython3",
   "version": "3.10.5"
  },
  "orig_nbformat": 4,
  "vscode": {
   "interpreter": {
    "hash": "e7370f93d1d0cde622a1f8e1c04877d8463912d04d973331ad4851f04de6915a"
   }
  }
 },
 "nbformat": 4,
 "nbformat_minor": 2
}
